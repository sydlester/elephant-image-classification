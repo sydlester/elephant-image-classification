{
 "cells": [
  {
   "cell_type": "markdown",
   "metadata": {},
   "source": [
    "### Configure Azure ML Credentials & Compute Target"
   ]
  },
  {
   "cell_type": "code",
   "execution_count": 1,
   "metadata": {},
   "outputs": [],
   "source": [
    "#import required libraries\n",
    "from azure.ai.ml import MLClient\n",
    "from azure.identity import DefaultAzureCredential\n",
    "from dotenv import load_dotenv\n",
    "import os\n",
    "\n",
    "#Enter details of your Azure Machine Learning workspace\n",
    "load_dotenv()\n",
    "subscription_id = os.environ.get('SUBSCRIPTION_ID')\n",
    "resource_group = os.environ.get('RESOURCE_GROUP')\n",
    "workspace = os.environ.get('WORKSPACE_NAME')\n",
    "datastore = os.environ.get('DATASTORE_NAME')\n",
    "\n",
    "#connect to the workspace\n",
    "ml_client = MLClient(DefaultAzureCredential(), subscription_id, resource_group, workspace)"
   ]
  },
  {
   "cell_type": "code",
   "execution_count": 6,
   "metadata": {},
   "outputs": [],
   "source": [
    "from azure.ai.ml.entities import AmlCompute\n",
    "\n",
    "# specify aml compute name.\n",
    "cpu_compute_target = \"sydney-compute-cpu\"\n",
    "\n",
    "try:\n",
    "    ml_client.compute.get(cpu_compute_target)\n",
    "except Exception:\n",
    "    print(\"Creating a new cpu compute target...\")\n",
    "    compute = AmlCompute(\n",
    "        name=cpu_compute_target, size=\"STANDARD_D2_V2\", min_instances=0, max_instances=4\n",
    "    )\n",
    "    ml_client.compute.begin_create_or_update(compute).result()"
   ]
  },
  {
   "cell_type": "code",
   "execution_count": 7,
   "metadata": {},
   "outputs": [],
   "source": [
    "from azure.ai.ml.constants import AssetTypes, InputOutputModes\n",
    "from azure.ai.ml import Input\n",
    "\n",
    "path = f'azureml://datastores/{datastore}/paths/'\n",
    "data_type = AssetTypes.URI_FOLDER\n",
    "mode = InputOutputModes.RO_MOUNT\n",
    "input_data = Input(type=data_type, path=path, mode=mode)\n",
    "\n",
    "inputs = {\n",
    "    \"input_data\": input_data\n",
    "}"
   ]
  },
  {
   "cell_type": "markdown",
   "metadata": {},
   "source": [
    "### Test Datastore"
   ]
  },
  {
   "cell_type": "code",
   "execution_count": 23,
   "metadata": {},
   "outputs": [],
   "source": [
    "from azure.ai.ml import command\n",
    "\n",
    "# define the command\n",
    "command_job = command(\n",
    "    code=\"./debug\",\n",
    "    command=\"python test_datastore.py --input_data ${{inputs.input_data}}\",\n",
    "    inputs=inputs,\n",
    "    environment=\"AzureML-acpt-pytorch-2.2-cuda12.1@latest\",\n",
    "    compute=cpu_compute_target,\n",
    "    experiment_name=\"train-on-cpu\",\n",
    "    display_name=\"test-datastore\",\n",
    "    identity=None\n",
    ")"
   ]
  },
  {
   "cell_type": "markdown",
   "metadata": {},
   "source": [
    "### Submit the Training Job to Azure ML Compute Resource"
   ]
  },
  {
   "cell_type": "code",
   "execution_count": 8,
   "metadata": {},
   "outputs": [],
   "source": [
    "from azure.ai.ml import command\n",
    "\n",
    "# define the command\n",
    "command_job = command(\n",
    "    code=\"./\",\n",
    "    command=\"python train.py --input_data ${{inputs.input_data}}\",\n",
    "    inputs=inputs,\n",
    "    environment=\"AzureML-acpt-pytorch-2.2-cuda12.1@latest\",\n",
    "    compute=cpu_compute_target,\n",
    "    experiment_name=\"train-on-cpu\",\n",
    "    display_name=\"train-image-classifier\"\n",
    ")"
   ]
  },
  {
   "cell_type": "code",
   "execution_count": 9,
   "metadata": {},
   "outputs": [
    {
     "name": "stderr",
     "output_type": "stream",
     "text": [
      "Your file exceeds 100 MB. If you experience low speeds, latency, or broken connections, we recommend using the AzCopyv10 tool for this file transfer.\n",
      "\n",
      "Example: azcopy copy '/Users/sydneylester/Projects/elephant-image-classification' 'https://sydney4772397004.blob.core.windows.net/1b0adfc3-11ad-451c-806a-68d87a4f8bb3-132ijpxg3q0bufd9pl5adetir8/elephant-image-classification' \n",
      "\n",
      "See https://docs.microsoft.com/azure/storage/common/storage-use-azcopy-v10 for more information.\n",
      "\u001b[32mUploading elephant-image-classification (627.11 MBs): 100%|██████████| 627106577/627106577 [01:03<00:00, 9830798.38it/s] \n",
      "\u001b[39m\n",
      "\n"
     ]
    },
    {
     "data": {
      "text/plain": [
       "'https://ml.azure.com/runs/serene_ear_bhmwgw3c98?wsid=/subscriptions/d69de6af-cb80-43c4-9527-d8d7eb3180f5/resourcegroups/lesterjt-rg/workspaces/Sydney&tid=9308e35c-fc90-4220-b851-4342ab03d0e9'"
      ]
     },
     "execution_count": 9,
     "metadata": {},
     "output_type": "execute_result"
    }
   ],
   "source": [
    "# submit the command\n",
    "returned_job = ml_client.jobs.create_or_update(command_job)\n",
    "# get a URL for the status of the job\n",
    "returned_job.studio_url"
   ]
  },
  {
   "cell_type": "markdown",
   "metadata": {},
   "source": [
    "### Register Model & Save Locally"
   ]
  },
  {
   "cell_type": "code",
   "execution_count": null,
   "metadata": {},
   "outputs": [],
   "source": [
    "from azure.ai.ml.entities import Model\n",
    "\n",
    "# Get the completed job\n",
    "job_details = ml_client.jobs.get(returned_job.name)\n",
    "\n",
    "# Register the model from the job's outputs\n",
    "registered_model = ml_client.models.create_or_update(\n",
    "    Model(\n",
    "        path=f\"{job_details.outputs['artifacts']}/outputs/elephant_classifier_resnet50.pth\",  # Job output path\n",
    "        name=\"image-classifier\",\n",
    "        description=\"Trained image classifier\",\n",
    "    )\n",
    ")\n",
    "\n",
    "ml_client.models.download(registered_model, \"elephant_classifier_resnet50.pth\")\n"
   ]
  }
 ],
 "metadata": {
  "kernelspec": {
   "display_name": "base",
   "language": "python",
   "name": "python3"
  },
  "language_info": {
   "codemirror_mode": {
    "name": "ipython",
    "version": 3
   },
   "file_extension": ".py",
   "mimetype": "text/x-python",
   "name": "python",
   "nbconvert_exporter": "python",
   "pygments_lexer": "ipython3",
   "version": "3.12.2"
  }
 },
 "nbformat": 4,
 "nbformat_minor": 2
}
