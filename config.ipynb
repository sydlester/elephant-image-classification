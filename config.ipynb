{
 "cells": [
  {
   "cell_type": "markdown",
   "metadata": {},
   "source": [
    "### Configure Azure ML Credentials & Compute Target"
   ]
  },
  {
   "cell_type": "code",
   "execution_count": 71,
   "metadata": {},
   "outputs": [],
   "source": [
    "#import required libraries\n",
    "from azure.ai.ml import MLClient\n",
    "from azure.identity import DefaultAzureCredential\n",
    "from dotenv import load_dotenv\n",
    "import os\n",
    "\n",
    "#Enter details of your Azure Machine Learning workspace\n",
    "load_dotenv()\n",
    "subscription_id = os.environ.get('SUBSCRIPTION_ID')\n",
    "resource_group = os.environ.get('RESOURCE_GROUP')\n",
    "workspace = os.environ.get('WORKSPACE_NAME')\n",
    "\n",
    "#connect to the workspace\n",
    "ml_client = MLClient(DefaultAzureCredential(), subscription_id, resource_group, workspace)"
   ]
  },
  {
   "cell_type": "code",
   "execution_count": null,
   "metadata": {},
   "outputs": [],
   "source": [
    "from azure.ai.ml.entities import AmlCompute\n",
    "\n",
    "# specify aml compute name.\n",
    "cpu_compute_target = \"sydney-compute-cpu\"\n",
    "\n",
    "try:\n",
    "    ml_client.compute.get(cpu_compute_target)\n",
    "except Exception:\n",
    "    print(\"Creating a new cpu compute target...\")\n",
    "    compute = AmlCompute(\n",
    "        name=cpu_compute_target, size=\"STANDARD_D2_V2\", min_instances=0, max_instances=4\n",
    "    )\n",
    "    ml_client.compute.begin_create_or_update(compute).result()"
   ]
  },
  {
   "cell_type": "markdown",
   "metadata": {},
   "source": [
    "### Submit the Training Job to Azure ML Compute Resource"
   ]
  },
  {
   "cell_type": "code",
   "execution_count": 74,
   "metadata": {},
   "outputs": [],
   "source": [
    "from azure.ai.ml import command\n",
    "\n",
    "# define the command\n",
    "command_job = command(\n",
    "    code=\"./\",\n",
    "    command=\"python train.py\",\n",
    "    environment=\"AzureML-acpt-pytorch-2.2-cuda12.1@latest\",\n",
    "    compute=cpu_compute_target,\n",
    "    experiment_name=\"train-on-cpu\",\n",
    "    display_name=\"train-image-classifier\"\n",
    ")"
   ]
  },
  {
   "cell_type": "code",
   "execution_count": 79,
   "metadata": {},
   "outputs": [
    {
     "data": {
      "text/plain": [
       "'https://ml.azure.com/runs/keen_chain_2zcbs4f0gp?wsid=/subscriptions/d69de6af-cb80-43c4-9527-d8d7eb3180f5/resourcegroups/lesterjt-rg/workspaces/Sydney&tid=9308e35c-fc90-4220-b851-4342ab03d0e9'"
      ]
     },
     "execution_count": 79,
     "metadata": {},
     "output_type": "execute_result"
    }
   ],
   "source": [
    "# submit the command\n",
    "returned_job = ml_client.jobs.create_or_update(command_job)\n",
    "# get a URL for the status of the job\n",
    "returned_job.studio_url"
   ]
  },
  {
   "cell_type": "markdown",
   "metadata": {},
   "source": [
    "### Register Model & Save Locally"
   ]
  },
  {
   "cell_type": "code",
   "execution_count": null,
   "metadata": {},
   "outputs": [],
   "source": [
    "from azure.ai.ml.entities import Model\n",
    "from azure.ai.ml.constants import AssetTypes\n",
    "\n",
    "# Get the completed job\n",
    "job_details = ml_client.jobs.get(returned_job.name)\n",
    "\n",
    "# Register the model from the job's outputs\n",
    "registered_model = ml_client.models.create_or_update(\n",
    "    Model(\n",
    "        path=f\"{job_details.outputs['artifacts']}/outputs/elephant_classifier_resnet50.pth\",  # Job output path\n",
    "        name=\"image-classifier\",\n",
    "        description=\"Trained image classifier\",\n",
    "    )\n",
    ")\n",
    "\n",
    "ml_client.models.download(registered_model, \"elephant_classifier_resnet50.pth\")\n"
   ]
  }
 ],
 "metadata": {
  "kernelspec": {
   "display_name": "base",
   "language": "python",
   "name": "python3"
  },
  "language_info": {
   "codemirror_mode": {
    "name": "ipython",
    "version": 3
   },
   "file_extension": ".py",
   "mimetype": "text/x-python",
   "name": "python",
   "nbconvert_exporter": "python",
   "pygments_lexer": "ipython3",
   "version": "3.12.2"
  }
 },
 "nbformat": 4,
 "nbformat_minor": 2
}
