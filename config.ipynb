{
 "cells": [
  {
   "cell_type": "markdown",
   "metadata": {},
   "source": [
    "### Configure Azure ML Credentials & Compute Target"
   ]
  },
  {
   "cell_type": "code",
   "execution_count": 71,
   "metadata": {},
   "outputs": [],
   "source": [
    "#import required libraries\n",
    "from azure.ai.ml import MLClient\n",
    "from azure.identity import DefaultAzureCredential\n",
    "from dotenv import load_dotenv\n",
    "import os\n",
    "\n",
    "#Enter details of your Azure Machine Learning workspace\n",
    "load_dotenv()\n",
    "subscription_id = os.environ.get('SUBSCRIPTION_ID')\n",
    "resource_group = os.environ.get('RESOURCE_GROUP')\n",
    "workspace = os.environ.get('WORKSPACE_NAME')\n",
    "\n",
    "#connect to the workspace\n",
    "ml_client = MLClient(DefaultAzureCredential(), subscription_id, resource_group, workspace)"
   ]
  },
  {
   "cell_type": "code",
   "execution_count": 68,
   "metadata": {},
   "outputs": [],
   "source": [
    "from azure.ai.ml.entities import AmlCompute\n",
    "\n",
    "# specify aml compute name.\n",
    "cpu_compute_target = \"sydney-compute-cpu\"\n",
    "\n",
    "try:\n",
    "    ml_client.compute.get(cpu_compute_target)\n",
    "except Exception:\n",
    "    print(\"Creating a new cpu compute target...\")\n",
    "    compute = AmlCompute(\n",
    "        name=cpu_compute_target, size=\"STANDARD_D2_V2\", min_instances=0, max_instances=4\n",
    "    )\n",
    "    ml_client.compute.begin_create_or_update(compute).result()"
   ]
  },
  {
   "cell_type": "markdown",
   "metadata": {},
   "source": [
    "### Submit the Training Job to Azure ML Compute Resource"
   ]
  },
  {
   "cell_type": "code",
   "execution_count": 69,
   "metadata": {},
   "outputs": [
    {
     "name": "stderr",
     "output_type": "stream",
     "text": [
      "Your file exceeds 100 MB. If you experience low speeds, latency, or broken connections, we recommend using the AzCopyv10 tool for this file transfer.\n",
      "\n",
      "Example: azcopy copy '/Users/sydneylester/Projects/elephant-image-classification' 'https://sydney4772397004.blob.core.windows.net/1b0adfc3-11ad-451c-806a-68d87a4f8bb3-127cy4h9yrf75k1fia3qh96qvv/elephant-image-classification' \n",
      "\n",
      "See https://docs.microsoft.com/azure/storage/common/storage-use-azcopy-v10 for more information.\n",
      "Uploading elephant-image-classification (417.97 MBs):   0%|          | 66288/417966820 [00:28<50:20:32, 2305.89it/s]\n"
     ]
    },
    {
     "ename": "KeyboardInterrupt",
     "evalue": "",
     "output_type": "error",
     "traceback": [
      "\u001b[0;31m---------------------------------------------------------------------------\u001b[0m",
      "\u001b[0;31mKeyboardInterrupt\u001b[0m                         Traceback (most recent call last)",
      "File \u001b[0;32m/opt/anaconda3/lib/python3.12/site-packages/azure/ai/ml/_utils/_asset_utils.py:683\u001b[0m, in \u001b[0;36mupload_directory\u001b[0;34m(storage_client, source, dest, msg, show_progress, ignore_file)\u001b[0m\n\u001b[1;32m    682\u001b[0m \u001b[38;5;28;01mwith\u001b[39;00m tqdm(total\u001b[38;5;241m=\u001b[39mtotal_size, desc\u001b[38;5;241m=\u001b[39mmsg, ascii\u001b[38;5;241m=\u001b[39mis_windows) \u001b[38;5;28;01mas\u001b[39;00m pbar:\n\u001b[0;32m--> 683\u001b[0m     \u001b[38;5;28;01mfor\u001b[39;00m future \u001b[38;5;129;01min\u001b[39;00m as_completed(futures_dict):\n\u001b[1;32m    684\u001b[0m         future\u001b[38;5;241m.\u001b[39mresult()  \u001b[38;5;66;03m# access result to propagate any exceptions\u001b[39;00m\n",
      "File \u001b[0;32m/opt/anaconda3/lib/python3.12/concurrent/futures/_base.py:243\u001b[0m, in \u001b[0;36mas_completed\u001b[0;34m(fs, timeout)\u001b[0m\n\u001b[1;32m    239\u001b[0m         \u001b[38;5;28;01mraise\u001b[39;00m \u001b[38;5;167;01mTimeoutError\u001b[39;00m(\n\u001b[1;32m    240\u001b[0m                 \u001b[38;5;124m'\u001b[39m\u001b[38;5;132;01m%d\u001b[39;00m\u001b[38;5;124m (of \u001b[39m\u001b[38;5;132;01m%d\u001b[39;00m\u001b[38;5;124m) futures unfinished\u001b[39m\u001b[38;5;124m'\u001b[39m \u001b[38;5;241m%\u001b[39m (\n\u001b[1;32m    241\u001b[0m                 \u001b[38;5;28mlen\u001b[39m(pending), total_futures))\n\u001b[0;32m--> 243\u001b[0m waiter\u001b[38;5;241m.\u001b[39mevent\u001b[38;5;241m.\u001b[39mwait(wait_timeout)\n\u001b[1;32m    245\u001b[0m \u001b[38;5;28;01mwith\u001b[39;00m waiter\u001b[38;5;241m.\u001b[39mlock:\n",
      "File \u001b[0;32m/opt/anaconda3/lib/python3.12/threading.py:655\u001b[0m, in \u001b[0;36mEvent.wait\u001b[0;34m(self, timeout)\u001b[0m\n\u001b[1;32m    654\u001b[0m \u001b[38;5;28;01mif\u001b[39;00m \u001b[38;5;129;01mnot\u001b[39;00m signaled:\n\u001b[0;32m--> 655\u001b[0m     signaled \u001b[38;5;241m=\u001b[39m \u001b[38;5;28mself\u001b[39m\u001b[38;5;241m.\u001b[39m_cond\u001b[38;5;241m.\u001b[39mwait(timeout)\n\u001b[1;32m    656\u001b[0m \u001b[38;5;28;01mreturn\u001b[39;00m signaled\n",
      "File \u001b[0;32m/opt/anaconda3/lib/python3.12/threading.py:355\u001b[0m, in \u001b[0;36mCondition.wait\u001b[0;34m(self, timeout)\u001b[0m\n\u001b[1;32m    354\u001b[0m \u001b[38;5;28;01mif\u001b[39;00m timeout \u001b[38;5;129;01mis\u001b[39;00m \u001b[38;5;28;01mNone\u001b[39;00m:\n\u001b[0;32m--> 355\u001b[0m     waiter\u001b[38;5;241m.\u001b[39macquire()\n\u001b[1;32m    356\u001b[0m     gotit \u001b[38;5;241m=\u001b[39m \u001b[38;5;28;01mTrue\u001b[39;00m\n",
      "\u001b[0;31mKeyboardInterrupt\u001b[0m: ",
      "\nDuring handling of the above exception, another exception occurred:\n",
      "\u001b[0;31mKeyboardInterrupt\u001b[0m                         Traceback (most recent call last)",
      "Cell \u001b[0;32mIn[69], line 14\u001b[0m\n\u001b[1;32m      4\u001b[0m command_job \u001b[38;5;241m=\u001b[39m command(\n\u001b[1;32m      5\u001b[0m     code\u001b[38;5;241m=\u001b[39m\u001b[38;5;124m\"\u001b[39m\u001b[38;5;124m./\u001b[39m\u001b[38;5;124m\"\u001b[39m,\n\u001b[1;32m      6\u001b[0m     command\u001b[38;5;241m=\u001b[39m\u001b[38;5;124m\"\u001b[39m\u001b[38;5;124mpython train.py\u001b[39m\u001b[38;5;124m\"\u001b[39m,\n\u001b[0;32m   (...)\u001b[0m\n\u001b[1;32m     10\u001b[0m     display_name\u001b[38;5;241m=\u001b[39m\u001b[38;5;124m\"\u001b[39m\u001b[38;5;124mtrain-image-classifier\u001b[39m\u001b[38;5;124m\"\u001b[39m\n\u001b[1;32m     11\u001b[0m )\n\u001b[1;32m     13\u001b[0m \u001b[38;5;66;03m# submit the command\u001b[39;00m\n\u001b[0;32m---> 14\u001b[0m returned_job \u001b[38;5;241m=\u001b[39m ml_client\u001b[38;5;241m.\u001b[39mjobs\u001b[38;5;241m.\u001b[39mcreate_or_update(command_job)\n\u001b[1;32m     15\u001b[0m \u001b[38;5;66;03m# get a URL for the status of the job\u001b[39;00m\n\u001b[1;32m     16\u001b[0m returned_job\u001b[38;5;241m.\u001b[39mstudio_url\n",
      "File \u001b[0;32m/opt/anaconda3/lib/python3.12/site-packages/azure/core/tracing/decorator.py:105\u001b[0m, in \u001b[0;36mdistributed_trace.<locals>.decorator.<locals>.wrapper_use_tracer\u001b[0;34m(*args, **kwargs)\u001b[0m\n\u001b[1;32m    103\u001b[0m span_impl_type \u001b[38;5;241m=\u001b[39m settings\u001b[38;5;241m.\u001b[39mtracing_implementation()\n\u001b[1;32m    104\u001b[0m \u001b[38;5;28;01mif\u001b[39;00m span_impl_type \u001b[38;5;129;01mis\u001b[39;00m \u001b[38;5;28;01mNone\u001b[39;00m:\n\u001b[0;32m--> 105\u001b[0m     \u001b[38;5;28;01mreturn\u001b[39;00m func(\u001b[38;5;241m*\u001b[39margs, \u001b[38;5;241m*\u001b[39m\u001b[38;5;241m*\u001b[39mkwargs)\n\u001b[1;32m    107\u001b[0m \u001b[38;5;66;03m# Merge span is parameter is set, but only if no explicit parent are passed\u001b[39;00m\n\u001b[1;32m    108\u001b[0m \u001b[38;5;28;01mif\u001b[39;00m merge_span \u001b[38;5;129;01mand\u001b[39;00m \u001b[38;5;129;01mnot\u001b[39;00m passed_in_parent:\n",
      "File \u001b[0;32m/opt/anaconda3/lib/python3.12/site-packages/azure/ai/ml/_telemetry/activity.py:372\u001b[0m, in \u001b[0;36mmonitor_with_telemetry_mixin.<locals>.monitor.<locals>.wrapper\u001b[0;34m(*args, **kwargs)\u001b[0m\n\u001b[1;32m    370\u001b[0m dimensions \u001b[38;5;241m=\u001b[39m {\u001b[38;5;241m*\u001b[39m\u001b[38;5;241m*\u001b[39mparameter_dimensions, \u001b[38;5;241m*\u001b[39m\u001b[38;5;241m*\u001b[39m(custom_dimensions \u001b[38;5;129;01mor\u001b[39;00m {})}\n\u001b[1;32m    371\u001b[0m \u001b[38;5;28;01mwith\u001b[39;00m log_activity(logger, activity_name \u001b[38;5;129;01mor\u001b[39;00m f\u001b[38;5;241m.\u001b[39m\u001b[38;5;18m__name__\u001b[39m, activity_type, dimensions) \u001b[38;5;28;01mas\u001b[39;00m activityLogger:\n\u001b[0;32m--> 372\u001b[0m     return_value \u001b[38;5;241m=\u001b[39m f(\u001b[38;5;241m*\u001b[39margs, \u001b[38;5;241m*\u001b[39m\u001b[38;5;241m*\u001b[39mkwargs)\n\u001b[1;32m    373\u001b[0m     \u001b[38;5;28;01mif\u001b[39;00m \u001b[38;5;129;01mnot\u001b[39;00m parameter_dimensions:\n\u001b[1;32m    374\u001b[0m         \u001b[38;5;66;03m# collect from return if no dimensions from parameter\u001b[39;00m\n\u001b[1;32m    375\u001b[0m         activityLogger\u001b[38;5;241m.\u001b[39mactivity_info\u001b[38;5;241m.\u001b[39mupdate(_collect_from_return_value(return_value))\n",
      "File \u001b[0;32m/opt/anaconda3/lib/python3.12/site-packages/azure/ai/ml/operations/_job_operations.py:664\u001b[0m, in \u001b[0;36mJobOperations.create_or_update\u001b[0;34m(self, job, description, compute, tags, experiment_name, skip_validation, **kwargs)\u001b[0m\n\u001b[1;32m    661\u001b[0m         \u001b[38;5;28mself\u001b[39m\u001b[38;5;241m.\u001b[39m_validate(job, raise_on_failure\u001b[38;5;241m=\u001b[39m\u001b[38;5;28;01mTrue\u001b[39;00m)\n\u001b[1;32m    663\u001b[0m     \u001b[38;5;66;03m# Create all dependent resources\u001b[39;00m\n\u001b[0;32m--> 664\u001b[0m     \u001b[38;5;28mself\u001b[39m\u001b[38;5;241m.\u001b[39m_resolve_arm_id_or_upload_dependencies(job)\n\u001b[1;32m    665\u001b[0m \u001b[38;5;28;01mexcept\u001b[39;00m (ValidationException, ValidationError) \u001b[38;5;28;01mas\u001b[39;00m ex:  \u001b[38;5;66;03m# pylint: disable=W0718\u001b[39;00m\n\u001b[1;32m    666\u001b[0m     log_and_raise_error(ex)\n",
      "File \u001b[0;32m/opt/anaconda3/lib/python3.12/site-packages/azure/ai/ml/operations/_job_operations.py:1086\u001b[0m, in \u001b[0;36mJobOperations._resolve_arm_id_or_upload_dependencies\u001b[0;34m(self, job)\u001b[0m\n\u001b[1;32m   1076\u001b[0m \u001b[38;5;28;01mdef\u001b[39;00m \u001b[38;5;21m_resolve_arm_id_or_upload_dependencies\u001b[39m(\u001b[38;5;28mself\u001b[39m, job: Job) \u001b[38;5;241m-\u001b[39m\u001b[38;5;241m>\u001b[39m \u001b[38;5;28;01mNone\u001b[39;00m:\n\u001b[1;32m   1077\u001b[0m \u001b[38;5;250m    \u001b[39m\u001b[38;5;124;03m\"\"\"This method converts name or name:version to ARM id. Or it\u001b[39;00m\n\u001b[1;32m   1078\u001b[0m \u001b[38;5;124;03m    registers/uploads nested dependencies.\u001b[39;00m\n\u001b[1;32m   1079\u001b[0m \n\u001b[0;32m   (...)\u001b[0m\n\u001b[1;32m   1083\u001b[0m \u001b[38;5;124;03m    :rtype: Job\u001b[39;00m\n\u001b[1;32m   1084\u001b[0m \u001b[38;5;124;03m    \"\"\"\u001b[39;00m\n\u001b[0;32m-> 1086\u001b[0m     \u001b[38;5;28mself\u001b[39m\u001b[38;5;241m.\u001b[39m_resolve_arm_id_or_azureml_id(job, \u001b[38;5;28mself\u001b[39m\u001b[38;5;241m.\u001b[39m_orchestrators\u001b[38;5;241m.\u001b[39mget_asset_arm_id)\n\u001b[1;32m   1088\u001b[0m     \u001b[38;5;28;01mif\u001b[39;00m \u001b[38;5;28misinstance\u001b[39m(job, PipelineJob):\n\u001b[1;32m   1089\u001b[0m         \u001b[38;5;66;03m# Resolve top-level inputs\u001b[39;00m\n\u001b[1;32m   1090\u001b[0m         \u001b[38;5;28mself\u001b[39m\u001b[38;5;241m.\u001b[39m_resolve_job_inputs(\u001b[38;5;28mself\u001b[39m\u001b[38;5;241m.\u001b[39m_flatten_group_inputs(job\u001b[38;5;241m.\u001b[39minputs), job\u001b[38;5;241m.\u001b[39m_base_path)\n",
      "File \u001b[0;32m/opt/anaconda3/lib/python3.12/site-packages/azure/ai/ml/operations/_job_operations.py:1365\u001b[0m, in \u001b[0;36mJobOperations._resolve_arm_id_or_azureml_id\u001b[0;34m(self, job, resolver)\u001b[0m\n\u001b[1;32m   1363\u001b[0m     job\u001b[38;5;241m.\u001b[39mcompute \u001b[38;5;241m=\u001b[39m \u001b[38;5;28mself\u001b[39m\u001b[38;5;241m.\u001b[39m_resolve_compute_id(resolver, job\u001b[38;5;241m.\u001b[39mcompute)\n\u001b[1;32m   1364\u001b[0m \u001b[38;5;28;01melif\u001b[39;00m \u001b[38;5;28misinstance\u001b[39m(job, Command):\n\u001b[0;32m-> 1365\u001b[0m     job \u001b[38;5;241m=\u001b[39m \u001b[38;5;28mself\u001b[39m\u001b[38;5;241m.\u001b[39m_resolve_arm_id_for_command_job(job, resolver)\n\u001b[1;32m   1366\u001b[0m \u001b[38;5;28;01melif\u001b[39;00m \u001b[38;5;28misinstance\u001b[39m(job, ImportJob):\n\u001b[1;32m   1367\u001b[0m     job \u001b[38;5;241m=\u001b[39m \u001b[38;5;28mself\u001b[39m\u001b[38;5;241m.\u001b[39m_resolve_arm_id_for_import_job(job, resolver)\n",
      "File \u001b[0;32m/opt/anaconda3/lib/python3.12/site-packages/azure/ai/ml/operations/_job_operations.py:1415\u001b[0m, in \u001b[0;36mJobOperations._resolve_arm_id_for_command_job\u001b[0;34m(self, job, resolver)\u001b[0m\n\u001b[1;32m   1406\u001b[0m     \u001b[38;5;28;01mraise\u001b[39;00m ValidationException(\n\u001b[1;32m   1407\u001b[0m         message\u001b[38;5;241m=\u001b[39mmsg\u001b[38;5;241m.\u001b[39mformat(job\u001b[38;5;241m.\u001b[39mcode),\n\u001b[1;32m   1408\u001b[0m         target\u001b[38;5;241m=\u001b[39mErrorTarget\u001b[38;5;241m.\u001b[39mJOB,\n\u001b[0;32m   (...)\u001b[0m\n\u001b[1;32m   1411\u001b[0m         error_type\u001b[38;5;241m=\u001b[39mValidationErrorType\u001b[38;5;241m.\u001b[39mINVALID_VALUE,\n\u001b[1;32m   1412\u001b[0m     )\n\u001b[1;32m   1414\u001b[0m \u001b[38;5;28;01mif\u001b[39;00m job\u001b[38;5;241m.\u001b[39mcode \u001b[38;5;129;01mis\u001b[39;00m \u001b[38;5;129;01mnot\u001b[39;00m \u001b[38;5;28;01mNone\u001b[39;00m \u001b[38;5;129;01mand\u001b[39;00m \u001b[38;5;129;01mnot\u001b[39;00m is_ARM_id_for_resource(job\u001b[38;5;241m.\u001b[39mcode, AzureMLResourceType\u001b[38;5;241m.\u001b[39mCODE):\n\u001b[0;32m-> 1415\u001b[0m     job\u001b[38;5;241m.\u001b[39mcode \u001b[38;5;241m=\u001b[39m resolver(  \u001b[38;5;66;03m# type: ignore\u001b[39;00m\n\u001b[1;32m   1416\u001b[0m         Code(base_path\u001b[38;5;241m=\u001b[39mjob\u001b[38;5;241m.\u001b[39m_base_path, path\u001b[38;5;241m=\u001b[39mjob\u001b[38;5;241m.\u001b[39mcode),\n\u001b[1;32m   1417\u001b[0m         azureml_type\u001b[38;5;241m=\u001b[39mAzureMLResourceType\u001b[38;5;241m.\u001b[39mCODE,\n\u001b[1;32m   1418\u001b[0m     )\n\u001b[1;32m   1419\u001b[0m job\u001b[38;5;241m.\u001b[39menvironment \u001b[38;5;241m=\u001b[39m resolver(job\u001b[38;5;241m.\u001b[39menvironment, azureml_type\u001b[38;5;241m=\u001b[39mAzureMLResourceType\u001b[38;5;241m.\u001b[39mENVIRONMENT)\n\u001b[1;32m   1420\u001b[0m job\u001b[38;5;241m.\u001b[39mcompute \u001b[38;5;241m=\u001b[39m \u001b[38;5;28mself\u001b[39m\u001b[38;5;241m.\u001b[39m_resolve_compute_id(resolver, job\u001b[38;5;241m.\u001b[39mcompute)\n",
      "File \u001b[0;32m/opt/anaconda3/lib/python3.12/site-packages/azure/ai/ml/operations/_operation_orchestrator.py:238\u001b[0m, in \u001b[0;36mOperationOrchestrator.get_asset_arm_id\u001b[0;34m(self, asset, azureml_type, register_asset, sub_workspace_resource)\u001b[0m\n\u001b[1;32m    236\u001b[0m \u001b[38;5;66;03m# TODO: once the asset redesign is finished, this logic can be replaced with unified API\u001b[39;00m\n\u001b[1;32m    237\u001b[0m \u001b[38;5;28;01mif\u001b[39;00m azureml_type \u001b[38;5;241m==\u001b[39m AzureMLResourceType\u001b[38;5;241m.\u001b[39mCODE \u001b[38;5;129;01mand\u001b[39;00m \u001b[38;5;28misinstance\u001b[39m(asset, Code):\n\u001b[0;32m--> 238\u001b[0m     result \u001b[38;5;241m=\u001b[39m \u001b[38;5;28mself\u001b[39m\u001b[38;5;241m.\u001b[39m_get_code_asset_arm_id(asset, register_asset\u001b[38;5;241m=\u001b[39mregister_asset)\n\u001b[1;32m    239\u001b[0m \u001b[38;5;28;01melif\u001b[39;00m azureml_type \u001b[38;5;241m==\u001b[39m AzureMLResourceType\u001b[38;5;241m.\u001b[39mENVIRONMENT \u001b[38;5;129;01mand\u001b[39;00m \u001b[38;5;28misinstance\u001b[39m(asset, Environment):\n\u001b[1;32m    240\u001b[0m     result \u001b[38;5;241m=\u001b[39m \u001b[38;5;28mself\u001b[39m\u001b[38;5;241m.\u001b[39m_get_environment_arm_id(asset, register_asset\u001b[38;5;241m=\u001b[39mregister_asset)\n",
      "File \u001b[0;32m/opt/anaconda3/lib/python3.12/site-packages/azure/ai/ml/operations/_operation_orchestrator.py:279\u001b[0m, in \u001b[0;36mOperationOrchestrator._get_code_asset_arm_id\u001b[0;34m(self, code_asset, register_asset)\u001b[0m\n\u001b[1;32m    277\u001b[0m \u001b[38;5;28mself\u001b[39m\u001b[38;5;241m.\u001b[39m_validate_datastore_name(code_asset\u001b[38;5;241m.\u001b[39mpath)\n\u001b[1;32m    278\u001b[0m \u001b[38;5;28;01mif\u001b[39;00m register_asset:\n\u001b[0;32m--> 279\u001b[0m     code_asset \u001b[38;5;241m=\u001b[39m \u001b[38;5;28mself\u001b[39m\u001b[38;5;241m.\u001b[39m_code_assets\u001b[38;5;241m.\u001b[39mcreate_or_update(code_asset)  \u001b[38;5;66;03m# type: ignore[attr-defined]\u001b[39;00m\n\u001b[1;32m    280\u001b[0m     \u001b[38;5;28;01mreturn\u001b[39;00m \u001b[38;5;28mstr\u001b[39m(code_asset\u001b[38;5;241m.\u001b[39mid)\n\u001b[1;32m    281\u001b[0m sas_info \u001b[38;5;241m=\u001b[39m get_storage_info_for_non_registry_asset(\n\u001b[1;32m    282\u001b[0m     service_client\u001b[38;5;241m=\u001b[39m\u001b[38;5;28mself\u001b[39m\u001b[38;5;241m.\u001b[39m_code_assets\u001b[38;5;241m.\u001b[39m_service_client,  \u001b[38;5;66;03m# type: ignore[attr-defined]\u001b[39;00m\n\u001b[1;32m    283\u001b[0m     workspace_name\u001b[38;5;241m=\u001b[39m\u001b[38;5;28mself\u001b[39m\u001b[38;5;241m.\u001b[39m_operation_scope\u001b[38;5;241m.\u001b[39mworkspace_name,\n\u001b[0;32m   (...)\u001b[0m\n\u001b[1;32m    286\u001b[0m     resource_group\u001b[38;5;241m=\u001b[39m\u001b[38;5;28mself\u001b[39m\u001b[38;5;241m.\u001b[39m_operation_scope\u001b[38;5;241m.\u001b[39mresource_group_name,\n\u001b[1;32m    287\u001b[0m )\n",
      "File \u001b[0;32m/opt/anaconda3/lib/python3.12/site-packages/azure/ai/ml/_telemetry/activity.py:289\u001b[0m, in \u001b[0;36mmonitor_with_activity.<locals>.monitor.<locals>.wrapper\u001b[0;34m(*args, **kwargs)\u001b[0m\n\u001b[1;32m    285\u001b[0m     \u001b[38;5;28;01mwith\u001b[39;00m tracer\u001b[38;5;241m.\u001b[39mspan():\n\u001b[1;32m    286\u001b[0m         \u001b[38;5;28;01mwith\u001b[39;00m log_activity(\n\u001b[1;32m    287\u001b[0m             logger\u001b[38;5;241m.\u001b[39mpackage_logger, activity_name \u001b[38;5;129;01mor\u001b[39;00m f\u001b[38;5;241m.\u001b[39m\u001b[38;5;18m__name__\u001b[39m, activity_type, custom_dimensions\n\u001b[1;32m    288\u001b[0m         ):\n\u001b[0;32m--> 289\u001b[0m             \u001b[38;5;28;01mreturn\u001b[39;00m f(\u001b[38;5;241m*\u001b[39margs, \u001b[38;5;241m*\u001b[39m\u001b[38;5;241m*\u001b[39mkwargs)\n\u001b[1;32m    290\u001b[0m \u001b[38;5;28;01melif\u001b[39;00m \u001b[38;5;28mhasattr\u001b[39m(logger, \u001b[38;5;124m\"\u001b[39m\u001b[38;5;124mpackage_logger\u001b[39m\u001b[38;5;124m\"\u001b[39m):\n\u001b[1;32m    291\u001b[0m     \u001b[38;5;28;01mwith\u001b[39;00m log_activity(logger\u001b[38;5;241m.\u001b[39mpackage_logger, activity_name \u001b[38;5;129;01mor\u001b[39;00m f\u001b[38;5;241m.\u001b[39m\u001b[38;5;18m__name__\u001b[39m, activity_type, custom_dimensions):\n",
      "File \u001b[0;32m/opt/anaconda3/lib/python3.12/site-packages/azure/ai/ml/operations/_code_operations.py:160\u001b[0m, in \u001b[0;36mCodeOperations.create_or_update\u001b[0;34m(self, code)\u001b[0m\n\u001b[1;32m    157\u001b[0m         sas_uri \u001b[38;5;241m=\u001b[39m sas_info[\u001b[38;5;124m\"\u001b[39m\u001b[38;5;124msas_uri\u001b[39m\u001b[38;5;124m\"\u001b[39m]\n\u001b[1;32m    158\u001b[0m         blob_uri \u001b[38;5;241m=\u001b[39m sas_info[\u001b[38;5;124m\"\u001b[39m\u001b[38;5;124mblob_uri\u001b[39m\u001b[38;5;124m\"\u001b[39m]\n\u001b[0;32m--> 160\u001b[0m code, _ \u001b[38;5;241m=\u001b[39m _check_and_upload_path(\n\u001b[1;32m    161\u001b[0m     artifact\u001b[38;5;241m=\u001b[39mcode,\n\u001b[1;32m    162\u001b[0m     asset_operations\u001b[38;5;241m=\u001b[39m\u001b[38;5;28mself\u001b[39m,\n\u001b[1;32m    163\u001b[0m     sas_uri\u001b[38;5;241m=\u001b[39msas_uri,\n\u001b[1;32m    164\u001b[0m     artifact_type\u001b[38;5;241m=\u001b[39mErrorTarget\u001b[38;5;241m.\u001b[39mCODE,\n\u001b[1;32m    165\u001b[0m     show_progress\u001b[38;5;241m=\u001b[39m\u001b[38;5;28mself\u001b[39m\u001b[38;5;241m.\u001b[39m_show_progress,\n\u001b[1;32m    166\u001b[0m     blob_uri\u001b[38;5;241m=\u001b[39mblob_uri,\n\u001b[1;32m    167\u001b[0m )\n\u001b[1;32m    169\u001b[0m \u001b[38;5;66;03m# For anonymous code, if the code already exists in storage, we reuse the name,\u001b[39;00m\n\u001b[1;32m    170\u001b[0m \u001b[38;5;66;03m# version stored in the storage metadata so the same anonymous code won't be created again.\u001b[39;00m\n\u001b[1;32m    171\u001b[0m \u001b[38;5;28;01mif\u001b[39;00m code\u001b[38;5;241m.\u001b[39m_is_anonymous:\n",
      "File \u001b[0;32m/opt/anaconda3/lib/python3.12/site-packages/azure/ai/ml/_artifacts/_artifact_utilities.py:506\u001b[0m, in \u001b[0;36m_check_and_upload_path\u001b[0;34m(artifact, asset_operations, artifact_type, datastore_name, sas_uri, show_progress, blob_uri)\u001b[0m\n\u001b[1;32m    504\u001b[0m \u001b[38;5;28;01mif\u001b[39;00m \u001b[38;5;129;01mnot\u001b[39;00m path\u001b[38;5;241m.\u001b[39mis_absolute():\n\u001b[1;32m    505\u001b[0m     path \u001b[38;5;241m=\u001b[39m Path(artifact\u001b[38;5;241m.\u001b[39mbase_path, path)\u001b[38;5;241m.\u001b[39mresolve()\n\u001b[0;32m--> 506\u001b[0m uploaded_artifact \u001b[38;5;241m=\u001b[39m _upload_to_datastore(\n\u001b[1;32m    507\u001b[0m     asset_operations\u001b[38;5;241m.\u001b[39m_operation_scope,\n\u001b[1;32m    508\u001b[0m     asset_operations\u001b[38;5;241m.\u001b[39m_datastore_operation,\n\u001b[1;32m    509\u001b[0m     path,\n\u001b[1;32m    510\u001b[0m     datastore_name\u001b[38;5;241m=\u001b[39mdatastore_name,\n\u001b[1;32m    511\u001b[0m     asset_name\u001b[38;5;241m=\u001b[39martifact\u001b[38;5;241m.\u001b[39mname,\n\u001b[1;32m    512\u001b[0m     asset_version\u001b[38;5;241m=\u001b[39m\u001b[38;5;28mstr\u001b[39m(artifact\u001b[38;5;241m.\u001b[39mversion),\n\u001b[1;32m    513\u001b[0m     asset_hash\u001b[38;5;241m=\u001b[39m\u001b[38;5;28mgetattr\u001b[39m(artifact, \u001b[38;5;124m\"\u001b[39m\u001b[38;5;124m_upload_hash\u001b[39m\u001b[38;5;124m\"\u001b[39m, \u001b[38;5;28;01mNone\u001b[39;00m),\n\u001b[1;32m    514\u001b[0m     sas_uri\u001b[38;5;241m=\u001b[39msas_uri,\n\u001b[1;32m    515\u001b[0m     artifact_type\u001b[38;5;241m=\u001b[39martifact_type,\n\u001b[1;32m    516\u001b[0m     show_progress\u001b[38;5;241m=\u001b[39mshow_progress,\n\u001b[1;32m    517\u001b[0m     ignore_file\u001b[38;5;241m=\u001b[39m\u001b[38;5;28mgetattr\u001b[39m(artifact, \u001b[38;5;124m\"\u001b[39m\u001b[38;5;124m_ignore_file\u001b[39m\u001b[38;5;124m\"\u001b[39m, \u001b[38;5;28;01mNone\u001b[39;00m),\n\u001b[1;32m    518\u001b[0m     blob_uri\u001b[38;5;241m=\u001b[39mblob_uri,\n\u001b[1;32m    519\u001b[0m )\n\u001b[1;32m    520\u001b[0m indicator_file \u001b[38;5;241m=\u001b[39m uploaded_artifact\u001b[38;5;241m.\u001b[39mindicator_file  \u001b[38;5;66;03m# reference to storage contents\u001b[39;00m\n\u001b[1;32m    521\u001b[0m \u001b[38;5;28;01mif\u001b[39;00m artifact\u001b[38;5;241m.\u001b[39m_is_anonymous:\n",
      "File \u001b[0;32m/opt/anaconda3/lib/python3.12/site-packages/azure/ai/ml/_artifacts/_artifact_utilities.py:384\u001b[0m, in \u001b[0;36m_upload_to_datastore\u001b[0;34m(operation_scope, datastore_operation, path, artifact_type, datastore_name, show_progress, asset_name, asset_version, asset_hash, ignore_file, sas_uri, blob_uri)\u001b[0m\n\u001b[1;32m    382\u001b[0m \u001b[38;5;28;01mif\u001b[39;00m \u001b[38;5;129;01mnot\u001b[39;00m asset_hash:\n\u001b[1;32m    383\u001b[0m     asset_hash \u001b[38;5;241m=\u001b[39m get_object_hash(path, ignore_file)\n\u001b[0;32m--> 384\u001b[0m artifact \u001b[38;5;241m=\u001b[39m upload_artifact(\n\u001b[1;32m    385\u001b[0m     \u001b[38;5;28mstr\u001b[39m(path),\n\u001b[1;32m    386\u001b[0m     datastore_operation,\n\u001b[1;32m    387\u001b[0m     operation_scope,\n\u001b[1;32m    388\u001b[0m     datastore_name,\n\u001b[1;32m    389\u001b[0m     show_progress\u001b[38;5;241m=\u001b[39mshow_progress,\n\u001b[1;32m    390\u001b[0m     asset_hash\u001b[38;5;241m=\u001b[39masset_hash,\n\u001b[1;32m    391\u001b[0m     asset_name\u001b[38;5;241m=\u001b[39masset_name,\n\u001b[1;32m    392\u001b[0m     asset_version\u001b[38;5;241m=\u001b[39masset_version,\n\u001b[1;32m    393\u001b[0m     ignore_file\u001b[38;5;241m=\u001b[39mignore_file,\n\u001b[1;32m    394\u001b[0m     sas_uri\u001b[38;5;241m=\u001b[39msas_uri,\n\u001b[1;32m    395\u001b[0m )\n\u001b[1;32m    396\u001b[0m \u001b[38;5;28;01mif\u001b[39;00m blob_uri:\n\u001b[1;32m    397\u001b[0m     artifact\u001b[38;5;241m.\u001b[39mstorage_account_url \u001b[38;5;241m=\u001b[39m blob_uri\n",
      "File \u001b[0;32m/opt/anaconda3/lib/python3.12/site-packages/azure/ai/ml/_artifacts/_artifact_utilities.py:243\u001b[0m, in \u001b[0;36mupload_artifact\u001b[0;34m(local_path, datastore_operation, operation_scope, datastore_name, asset_hash, show_progress, asset_name, asset_version, ignore_file, sas_uri)\u001b[0m\n\u001b[1;32m    240\u001b[0m     datastore_info \u001b[38;5;241m=\u001b[39m get_datastore_info(datastore_operation, datastore_name)\n\u001b[1;32m    241\u001b[0m     storage_client \u001b[38;5;241m=\u001b[39m get_storage_client(\u001b[38;5;241m*\u001b[39m\u001b[38;5;241m*\u001b[39mdatastore_info)\n\u001b[0;32m--> 243\u001b[0m artifact_info \u001b[38;5;241m=\u001b[39m storage_client\u001b[38;5;241m.\u001b[39mupload(\n\u001b[1;32m    244\u001b[0m     local_path,\n\u001b[1;32m    245\u001b[0m     asset_hash\u001b[38;5;241m=\u001b[39masset_hash,\n\u001b[1;32m    246\u001b[0m     show_progress\u001b[38;5;241m=\u001b[39mshow_progress,\n\u001b[1;32m    247\u001b[0m     name\u001b[38;5;241m=\u001b[39masset_name,\n\u001b[1;32m    248\u001b[0m     version\u001b[38;5;241m=\u001b[39masset_version,\n\u001b[1;32m    249\u001b[0m     ignore_file\u001b[38;5;241m=\u001b[39mignore_file,\n\u001b[1;32m    250\u001b[0m )\n\u001b[1;32m    252\u001b[0m artifact \u001b[38;5;241m=\u001b[39m ArtifactStorageInfo(\n\u001b[1;32m    253\u001b[0m     name\u001b[38;5;241m=\u001b[39martifact_info[\u001b[38;5;124m\"\u001b[39m\u001b[38;5;124mname\u001b[39m\u001b[38;5;124m\"\u001b[39m],\n\u001b[1;32m    254\u001b[0m     version\u001b[38;5;241m=\u001b[39martifact_info[\u001b[38;5;124m\"\u001b[39m\u001b[38;5;124mversion\u001b[39m\u001b[38;5;124m\"\u001b[39m],\n\u001b[0;32m   (...)\u001b[0m\n\u001b[1;32m    262\u001b[0m     is_file\u001b[38;5;241m=\u001b[39mPath(local_path)\u001b[38;5;241m.\u001b[39mis_file(),\n\u001b[1;32m    263\u001b[0m )\n\u001b[1;32m    264\u001b[0m \u001b[38;5;28;01mreturn\u001b[39;00m artifact\n",
      "File \u001b[0;32m/opt/anaconda3/lib/python3.12/site-packages/azure/ai/ml/_artifacts/_blob_storage_helper.py:122\u001b[0m, in \u001b[0;36mBlobStorageClient.upload\u001b[0;34m(self, source, name, version, ignore_file, asset_hash, show_progress)\u001b[0m\n\u001b[1;32m    120\u001b[0m \u001b[38;5;66;03m# start upload\u001b[39;00m\n\u001b[1;32m    121\u001b[0m \u001b[38;5;28;01mif\u001b[39;00m os\u001b[38;5;241m.\u001b[39mpath\u001b[38;5;241m.\u001b[39misdir(source):\n\u001b[0;32m--> 122\u001b[0m     upload_directory(\n\u001b[1;32m    123\u001b[0m         storage_client\u001b[38;5;241m=\u001b[39m\u001b[38;5;28mself\u001b[39m,\n\u001b[1;32m    124\u001b[0m         source\u001b[38;5;241m=\u001b[39msource,\n\u001b[1;32m    125\u001b[0m         dest\u001b[38;5;241m=\u001b[39masset_id,\n\u001b[1;32m    126\u001b[0m         msg\u001b[38;5;241m=\u001b[39mmsg,\n\u001b[1;32m    127\u001b[0m         show_progress\u001b[38;5;241m=\u001b[39mshow_progress,\n\u001b[1;32m    128\u001b[0m         ignore_file\u001b[38;5;241m=\u001b[39mignore_file,\n\u001b[1;32m    129\u001b[0m     )\n\u001b[1;32m    130\u001b[0m \u001b[38;5;28;01melse\u001b[39;00m:\n\u001b[1;32m    131\u001b[0m     \u001b[38;5;28mself\u001b[39m\u001b[38;5;241m.\u001b[39mindicator_file \u001b[38;5;241m=\u001b[39m dest\n",
      "File \u001b[0;32m/opt/anaconda3/lib/python3.12/site-packages/azure/ai/ml/_utils/_asset_utils.py:665\u001b[0m, in \u001b[0;36mupload_directory\u001b[0;34m(storage_client, source, dest, msg, show_progress, ignore_file)\u001b[0m\n\u001b[1;32m    663\u001b[0m \u001b[38;5;66;03m# Submit paths to workers for upload\u001b[39;00m\n\u001b[1;32m    664\u001b[0m num_cores \u001b[38;5;241m=\u001b[39m \u001b[38;5;28mint\u001b[39m(cpu_count()) \u001b[38;5;241m*\u001b[39m PROCESSES_PER_CORE\n\u001b[0;32m--> 665\u001b[0m \u001b[38;5;28;01mwith\u001b[39;00m ThreadPoolExecutor(max_workers\u001b[38;5;241m=\u001b[39mnum_cores) \u001b[38;5;28;01mas\u001b[39;00m ex:\n\u001b[1;32m    666\u001b[0m     futures_dict \u001b[38;5;241m=\u001b[39m {\n\u001b[1;32m    667\u001b[0m         ex\u001b[38;5;241m.\u001b[39msubmit(\n\u001b[1;32m    668\u001b[0m             upload_file,\n\u001b[0;32m   (...)\u001b[0m\n\u001b[1;32m    676\u001b[0m         \u001b[38;5;28;01mfor\u001b[39;00m (src, dest) \u001b[38;5;129;01min\u001b[39;00m upload_paths\n\u001b[1;32m    677\u001b[0m     }\n\u001b[1;32m    678\u001b[0m     \u001b[38;5;28;01mif\u001b[39;00m show_progress:\n",
      "File \u001b[0;32m/opt/anaconda3/lib/python3.12/concurrent/futures/_base.py:647\u001b[0m, in \u001b[0;36mExecutor.__exit__\u001b[0;34m(self, exc_type, exc_val, exc_tb)\u001b[0m\n\u001b[1;32m    646\u001b[0m \u001b[38;5;28;01mdef\u001b[39;00m \u001b[38;5;21m__exit__\u001b[39m(\u001b[38;5;28mself\u001b[39m, exc_type, exc_val, exc_tb):\n\u001b[0;32m--> 647\u001b[0m     \u001b[38;5;28mself\u001b[39m\u001b[38;5;241m.\u001b[39mshutdown(wait\u001b[38;5;241m=\u001b[39m\u001b[38;5;28;01mTrue\u001b[39;00m)\n\u001b[1;32m    648\u001b[0m     \u001b[38;5;28;01mreturn\u001b[39;00m \u001b[38;5;28;01mFalse\u001b[39;00m\n",
      "File \u001b[0;32m/opt/anaconda3/lib/python3.12/concurrent/futures/thread.py:238\u001b[0m, in \u001b[0;36mThreadPoolExecutor.shutdown\u001b[0;34m(self, wait, cancel_futures)\u001b[0m\n\u001b[1;32m    236\u001b[0m \u001b[38;5;28;01mif\u001b[39;00m wait:\n\u001b[1;32m    237\u001b[0m     \u001b[38;5;28;01mfor\u001b[39;00m t \u001b[38;5;129;01min\u001b[39;00m \u001b[38;5;28mself\u001b[39m\u001b[38;5;241m.\u001b[39m_threads:\n\u001b[0;32m--> 238\u001b[0m         t\u001b[38;5;241m.\u001b[39mjoin()\n",
      "File \u001b[0;32m/opt/anaconda3/lib/python3.12/threading.py:1147\u001b[0m, in \u001b[0;36mThread.join\u001b[0;34m(self, timeout)\u001b[0m\n\u001b[1;32m   1144\u001b[0m     \u001b[38;5;28;01mraise\u001b[39;00m \u001b[38;5;167;01mRuntimeError\u001b[39;00m(\u001b[38;5;124m\"\u001b[39m\u001b[38;5;124mcannot join current thread\u001b[39m\u001b[38;5;124m\"\u001b[39m)\n\u001b[1;32m   1146\u001b[0m \u001b[38;5;28;01mif\u001b[39;00m timeout \u001b[38;5;129;01mis\u001b[39;00m \u001b[38;5;28;01mNone\u001b[39;00m:\n\u001b[0;32m-> 1147\u001b[0m     \u001b[38;5;28mself\u001b[39m\u001b[38;5;241m.\u001b[39m_wait_for_tstate_lock()\n\u001b[1;32m   1148\u001b[0m \u001b[38;5;28;01melse\u001b[39;00m:\n\u001b[1;32m   1149\u001b[0m     \u001b[38;5;66;03m# the behavior of a negative timeout isn't documented, but\u001b[39;00m\n\u001b[1;32m   1150\u001b[0m     \u001b[38;5;66;03m# historically .join(timeout=x) for x<0 has acted as if timeout=0\u001b[39;00m\n\u001b[1;32m   1151\u001b[0m     \u001b[38;5;28mself\u001b[39m\u001b[38;5;241m.\u001b[39m_wait_for_tstate_lock(timeout\u001b[38;5;241m=\u001b[39m\u001b[38;5;28mmax\u001b[39m(timeout, \u001b[38;5;241m0\u001b[39m))\n",
      "File \u001b[0;32m/opt/anaconda3/lib/python3.12/threading.py:1167\u001b[0m, in \u001b[0;36mThread._wait_for_tstate_lock\u001b[0;34m(self, block, timeout)\u001b[0m\n\u001b[1;32m   1164\u001b[0m     \u001b[38;5;28;01mreturn\u001b[39;00m\n\u001b[1;32m   1166\u001b[0m \u001b[38;5;28;01mtry\u001b[39;00m:\n\u001b[0;32m-> 1167\u001b[0m     \u001b[38;5;28;01mif\u001b[39;00m lock\u001b[38;5;241m.\u001b[39macquire(block, timeout):\n\u001b[1;32m   1168\u001b[0m         lock\u001b[38;5;241m.\u001b[39mrelease()\n\u001b[1;32m   1169\u001b[0m         \u001b[38;5;28mself\u001b[39m\u001b[38;5;241m.\u001b[39m_stop()\n",
      "\u001b[0;31mKeyboardInterrupt\u001b[0m: "
     ]
    }
   ],
   "source": [
    "from azure.ai.ml import command\n",
    "\n",
    "# define the command\n",
    "command_job = command(\n",
    "    code=\"./\",\n",
    "    command=\"python train.py\",\n",
    "    environment=\"AzureML-acpt-pytorch-2.2-cuda12.1@latest\",\n",
    "    compute=cpu_compute_target,\n",
    "    experiment_name=\"train-on-cpu\",\n",
    "    display_name=\"train-image-classifier\"\n",
    ")\n",
    "\n",
    "# submit the command\n",
    "returned_job = ml_client.jobs.create_or_update(command_job)\n",
    "# get a URL for the status of the job\n",
    "returned_job.studio_url"
   ]
  },
  {
   "cell_type": "markdown",
   "metadata": {},
   "source": [
    "### Register Model & Save Locally"
   ]
  },
  {
   "cell_type": "code",
   "execution_count": null,
   "metadata": {},
   "outputs": [],
   "source": [
    "from azure.ai.ml.entities import Model\n",
    "from azure.ai.ml.constants import AssetTypes\n",
    "\n",
    "# Get the completed job\n",
    "job_details = ml_client.jobs.get(returned_job.name)\n",
    "\n",
    "# Register the model from the job's outputs\n",
    "registered_model = ml_client.models.create_or_update(\n",
    "    Model(\n",
    "        path=f\"{job_details.outputs['artifacts']}/outputs/elephant_classifier_resnet50.pth\",  # Job output path\n",
    "        name=\"image-classifier\",\n",
    "        description=\"Trained image classifier\",\n",
    "    )\n",
    ")\n",
    "\n",
    "ml_client.models.download(registered_model, \"elephant_classifier_resnet50.pth\")\n"
   ]
  }
 ],
 "metadata": {
  "kernelspec": {
   "display_name": "base",
   "language": "python",
   "name": "python3"
  },
  "language_info": {
   "codemirror_mode": {
    "name": "ipython",
    "version": 3
   },
   "file_extension": ".py",
   "mimetype": "text/x-python",
   "name": "python",
   "nbconvert_exporter": "python",
   "pygments_lexer": "ipython3",
   "version": "3.12.2"
  }
 },
 "nbformat": 4,
 "nbformat_minor": 2
}
